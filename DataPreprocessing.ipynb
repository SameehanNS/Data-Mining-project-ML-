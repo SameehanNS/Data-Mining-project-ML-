{
  "nbformat": 4,
  "nbformat_minor": 0,
  "metadata": {
    "colab": {
      "provenance": []
    },
    "kernelspec": {
      "name": "python3",
      "display_name": "Python 3"
    },
    "language_info": {
      "name": "python"
    }
  },
  "cells": [
    {
      "cell_type": "markdown",
      "source": [
        "Importing the libraries"
      ],
      "metadata": {
        "id": "sK9EIxjRKm56"
      }
    },
    {
      "cell_type": "code",
      "execution_count": 21,
      "metadata": {
        "id": "lw5hJFpz-rYB"
      },
      "outputs": [],
      "source": [
        "import numpy as np\n",
        "import pandas as pd"
      ]
    },
    {
      "cell_type": "markdown",
      "source": [
        "Importing the dataset"
      ],
      "metadata": {
        "id": "juSwXY13Kp0A"
      }
    },
    {
      "cell_type": "code",
      "source": [
        "dataset = pd.read_csv('data.csv')\n",
        "X = dataset.iloc[:,:-1].values\n",
        "y = dataset.iloc[:,-1].values"
      ],
      "metadata": {
        "id": "hot31ujoCRR-"
      },
      "execution_count": 22,
      "outputs": []
    },
    {
      "cell_type": "markdown",
      "source": [
        "Handling missing values"
      ],
      "metadata": {
        "id": "QCDzlr6nKujS"
      }
    },
    {
      "cell_type": "code",
      "source": [
        "from sklearn.impute import SimpleImputer\n",
        "imputer = SimpleImputer(missing_values = np.nan , strategy = 'most_frequent')\n",
        "X = imputer.fit_transform(X)"
      ],
      "metadata": {
        "id": "B_-1LnkFK1WK"
      },
      "execution_count": 23,
      "outputs": []
    },
    {
      "cell_type": "markdown",
      "source": [
        "Encoding Categorical Data"
      ],
      "metadata": {
        "id": "bkq2RtqTV5js"
      }
    },
    {
      "cell_type": "code",
      "source": [
        "from sklearn.preprocessing import LabelEncoder\n",
        "le = LabelEncoder()\n",
        "X[:,1] = le.fit_transform(X[:,1])"
      ],
      "metadata": {
        "id": "pXIKZp6EY--P"
      },
      "execution_count": 24,
      "outputs": []
    },
    {
      "cell_type": "markdown",
      "source": [
        "Splitting the dataset into training set and test set"
      ],
      "metadata": {
        "id": "uZP0aV9taQlm"
      }
    },
    {
      "cell_type": "code",
      "source": [
        "from sklearn.model_selection import train_test_split\n",
        "X_train,X_test,y_train,y_test = train_test_split(X,y,test_size = 0.2, random_state=1)"
      ],
      "metadata": {
        "id": "QWYXeUbdaV0T"
      },
      "execution_count": 25,
      "outputs": []
    },
    {
      "cell_type": "markdown",
      "source": [
        "Feature Scaling"
      ],
      "metadata": {
        "id": "fdfrNNClbhLU"
      }
    },
    {
      "cell_type": "code",
      "source": [
        "from sklearn.preprocessing import StandardScaler\n",
        "sc = StandardScaler()\n",
        "sc2 = StandardScaler()\n",
        "X_train[:,0] = sc.fit_transform(X_train[:,0].reshape(-1, 1)).flatten()\n",
        "X_train[:,2:] = sc2.fit_transform(X_train[:,2:])\n",
        "\n",
        "X_test[:,0] = sc.transform(X_test[:,0].reshape(-1, 1)).flatten()\n",
        "X_test[:,2:] = sc2.transform(X_test[:,2:])\n"
      ],
      "metadata": {
        "id": "zmx6euyvbk-X"
      },
      "execution_count": 26,
      "outputs": []
    }
  ]
}